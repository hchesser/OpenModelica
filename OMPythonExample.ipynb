{
 "cells": [
  {
   "cell_type": "markdown",
   "metadata": {
    "slideshow": {
     "slide_type": "slide"
    }
   },
   "source": [
    "# OMPython Example\n",
    "\n",
    "OMPython is the Python library that allows you to run Open Modelica simulations and to get results back within a Python program.\n",
    "\n",
    "Documentation for the library is here:\n",
    "\n",
    "https://openmodelica.org/doc/OpenModelicaUsersGuide/latest/ompython.html\n",
    "\n",
    "The following example uses the *enhanced* OMPython API - for this you create a `ModelicaSystem` object as follows:"
   ]
  },
  {
   "cell_type": "code",
   "execution_count": 1,
   "metadata": {
    "hideOutput": false,
    "hidePrompt": false,
    "slideshow": {
     "slide_type": "fragment"
    }
   },
   "outputs": [
    {
     "name": "stderr",
     "output_type": "stream",
     "text": [
      "2018-03-09 14:30:45,300 - OMPython - INFO - OMC Server is up and running at file:///C:/Users/Hugh/AppData/Local/Temp/openmodelica.port.9d56ade445f74d64818ca3d4cdcd830d\n"
     ]
    },
    {
     "name": "stdout",
     "output_type": "stream",
     "text": [
      "Expected end of text (at char 1119), (line:7, col:28)\n"
     ]
    }
   ],
   "source": [
    "from OMPython import ModelicaSystem\n",
    "mod=ModelicaSystem(\"C:/Notebooks/ENG4350/SatModel.mo\",\"SatModel.Satellite\", \"Modelica.Constants\")"
   ]
  },
  {
   "cell_type": "markdown",
   "metadata": {
    "slideshow": {
     "slide_type": "slide"
    }
   },
   "source": [
    "...looks like some sort of coding issue in the Modelica.Constants library...\n",
    "\n",
    "Note the following in the command \n",
    "1. The path uses the forward slashes `/` to specify where the `mo` file is (not the standard Windows back slashes `\\`).  \n",
    "2. The model imports the value of $\\pi$ from the `Modelica.Constants` library, so this is included in the function call.\n",
    "\n",
    "Now that we have our `ModelicaSystem` object we can set the parameters for the Satellite model.  For the `Satellite` OpenModelica model, the paramters are the Mean Anomaly at Epoch(`M0`), Mean Motion at Epoch (`N0`), eccentricity (`ecc`), 1st time derivative of Mean Motion divided by 2 (`Ndot2`) and 2nd derivative of Mean Motion divided by 6 (`Nddot6`).\n",
    "\n",
    "So we set these parameters, then we make sure we set them properly"
   ]
  },
  {
   "cell_type": "code",
   "execution_count": 2,
   "metadata": {
    "hidePrompt": false,
    "slideshow": {
     "slide_type": "fragment"
    }
   },
   "outputs": [
    {
     "data": {
      "text/plain": [
       "{'M0': 267.123,\n",
       " 'N0': 2.005651,\n",
       " 'Nddot6': 0.0,\n",
       " 'Ndot2': 6.8e-07,\n",
       " 'ecc': 0.0034407}"
      ]
     },
     "execution_count": 2,
     "metadata": {},
     "output_type": "execute_result"
    }
   ],
   "source": [
    "mod.setParameters(M0=267.1230, N0=2.005651, ecc=0.0034407, Ndot2=0.00000068, Nddot6=0.)\n",
    "mod.getParameters()"
   ]
  },
  {
   "cell_type": "markdown",
   "metadata": {
    "slideshow": {
     "slide_type": "slide"
    }
   },
   "source": [
    "Next we can set the simulation options.  It appears that we cannot set the stopTime AND the startTime at the same time!  Try this yourself..."
   ]
  },
  {
   "cell_type": "code",
   "execution_count": 4,
   "metadata": {
    "hidePrompt": false,
    "slideshow": {
     "slide_type": "fragment"
    }
   },
   "outputs": [
    {
     "data": {
      "text/plain": [
       "{'solver': 'dassl',\n",
       " 'startTime': 86400.0,\n",
       " 'stepSize': 60.0,\n",
       " 'stopTime': 88200.0,\n",
       " 'tolerance': 1e-06}"
      ]
     },
     "execution_count": 4,
     "metadata": {},
     "output_type": "execute_result"
    }
   ],
   "source": [
    "mod.setSimulationOptions(stopTime=88200., stepSize=60.)\n",
    "mod.setSimulationOptions(startTime=86400.)\n",
    "mod.getSimulationOptions()"
   ]
  },
  {
   "cell_type": "markdown",
   "metadata": {
    "hidePrompt": false,
    "slideshow": {
     "slide_type": "slide"
    }
   },
   "source": [
    "Next we perform the simulation and get the outputs"
   ]
  },
  {
   "cell_type": "code",
   "execution_count": 5,
   "metadata": {
    "hidePrompt": false,
    "slideshow": {
     "slide_type": "fragment"
    }
   },
   "outputs": [
    {
     "data": {
      "text/plain": [
       "('E',\n",
       " 'M',\n",
       " 'M0',\n",
       " 'N0',\n",
       " 'Nddot6',\n",
       " 'Ndot2',\n",
       " 'a',\n",
       " 'der($STATESET1.x)',\n",
       " 'der(E)',\n",
       " 'der(M)',\n",
       " 'der(p_sat_pf.x)',\n",
       " 'der(p_sat_pf.y)',\n",
       " 'der(r)',\n",
       " 'der(theta)',\n",
       " 'ecc',\n",
       " 'p_sat_pf.x',\n",
       " 'p_sat_pf.y',\n",
       " 'p_sat_pf.z',\n",
       " 'r',\n",
       " 'theta',\n",
       " 'time',\n",
       " 'v_sat_pf.x',\n",
       " 'v_sat_pf.y',\n",
       " 'v_sat_pf.z')"
      ]
     },
     "execution_count": 5,
     "metadata": {},
     "output_type": "execute_result"
    }
   ],
   "source": [
    "mod.simulate()\n",
    "mod.getSolutions()"
   ]
  },
  {
   "cell_type": "markdown",
   "metadata": {
    "slideshow": {
     "slide_type": "slide"
    }
   },
   "source": [
    "We can now get the results as numpy arrays by doing the following:"
   ]
  },
  {
   "cell_type": "code",
   "execution_count": 7,
   "metadata": {
    "hideOutput": false,
    "hidePrompt": false,
    "slideshow": {
     "slide_type": "fragment"
    }
   },
   "outputs": [],
   "source": [
    "(time, M, E, theta) = mod.getSolutions(\"time\", \"M\", \"E\", \"theta\")"
   ]
  },
  {
   "cell_type": "markdown",
   "metadata": {
    "slideshow": {
     "slide_type": "slide"
    }
   },
   "source": [
    "The data is now in a form that we can use Python to work with.  For example we can create an interactive plot quite easily"
   ]
  },
  {
   "cell_type": "code",
   "execution_count": 8,
   "metadata": {
    "hideCode": false,
    "hidePrompt": false,
    "slideshow": {
     "slide_type": "fragment"
    }
   },
   "outputs": [
    {
     "data": {
      "text/html": [
       "\n",
       "    <div class=\"bk-root\">\n",
       "        <a href=\"https://bokeh.pydata.org\" target=\"_blank\" class=\"bk-logo bk-logo-small bk-logo-notebook\"></a>\n",
       "        <span id=\"6cec1573-beb2-411e-bce4-f51fdf3e9160\">Loading BokehJS ...</span>\n",
       "    </div>"
      ]
     },
     "metadata": {},
     "output_type": "display_data"
    },
    {
     "data": {
      "application/javascript": [
       "\n",
       "(function(root) {\n",
       "  function now() {\n",
       "    return new Date();\n",
       "  }\n",
       "\n",
       "  var force = true;\n",
       "\n",
       "  if (typeof (root._bokeh_onload_callbacks) === \"undefined\" || force === true) {\n",
       "    root._bokeh_onload_callbacks = [];\n",
       "    root._bokeh_is_loading = undefined;\n",
       "  }\n",
       "\n",
       "  var JS_MIME_TYPE = 'application/javascript';\n",
       "  var HTML_MIME_TYPE = 'text/html';\n",
       "  var EXEC_MIME_TYPE = 'application/vnd.bokehjs_exec.v0+json';\n",
       "  var CLASS_NAME = 'output_bokeh rendered_html';\n",
       "\n",
       "  /**\n",
       "   * Render data to the DOM node\n",
       "   */\n",
       "  function render(props, node) {\n",
       "    var script = document.createElement(\"script\");\n",
       "    node.appendChild(script);\n",
       "  }\n",
       "\n",
       "  /**\n",
       "   * Handle when an output is cleared or removed\n",
       "   */\n",
       "  function handleClearOutput(event, handle) {\n",
       "    var cell = handle.cell;\n",
       "\n",
       "    var id = cell.output_area._bokeh_element_id;\n",
       "    var server_id = cell.output_area._bokeh_server_id;\n",
       "    // Clean up Bokeh references\n",
       "    if (id !== undefined) {\n",
       "      Bokeh.index[id].model.document.clear();\n",
       "      delete Bokeh.index[id];\n",
       "    }\n",
       "\n",
       "    if (server_id !== undefined) {\n",
       "      // Clean up Bokeh references\n",
       "      var cmd = \"from bokeh.io.state import curstate; print(curstate().uuid_to_server['\" + server_id + \"'].get_sessions()[0].document.roots[0]._id)\";\n",
       "      cell.notebook.kernel.execute(cmd, {\n",
       "        iopub: {\n",
       "          output: function(msg) {\n",
       "            var element_id = msg.content.text.trim();\n",
       "            Bokeh.index[element_id].model.document.clear();\n",
       "            delete Bokeh.index[element_id];\n",
       "          }\n",
       "        }\n",
       "      });\n",
       "      // Destroy server and session\n",
       "      var cmd = \"import bokeh.io.notebook as ion; ion.destroy_server('\" + server_id + \"')\";\n",
       "      cell.notebook.kernel.execute(cmd);\n",
       "    }\n",
       "  }\n",
       "\n",
       "  /**\n",
       "   * Handle when a new output is added\n",
       "   */\n",
       "  function handleAddOutput(event, handle) {\n",
       "    var output_area = handle.output_area;\n",
       "    var output = handle.output;\n",
       "\n",
       "    // limit handleAddOutput to display_data with EXEC_MIME_TYPE content only\n",
       "    if ((output.output_type != \"display_data\") || (!output.data.hasOwnProperty(EXEC_MIME_TYPE))) {\n",
       "      return\n",
       "    }\n",
       "\n",
       "    var toinsert = output_area.element.find(\".\" + CLASS_NAME.split(' ')[0]);\n",
       "\n",
       "    if (output.metadata[EXEC_MIME_TYPE][\"id\"] !== undefined) {\n",
       "      toinsert[0].firstChild.textContent = output.data[JS_MIME_TYPE];\n",
       "      // store reference to embed id on output_area\n",
       "      output_area._bokeh_element_id = output.metadata[EXEC_MIME_TYPE][\"id\"];\n",
       "    }\n",
       "    if (output.metadata[EXEC_MIME_TYPE][\"server_id\"] !== undefined) {\n",
       "      var bk_div = document.createElement(\"div\");\n",
       "      bk_div.innerHTML = output.data[HTML_MIME_TYPE];\n",
       "      var script_attrs = bk_div.children[0].attributes;\n",
       "      for (var i = 0; i < script_attrs.length; i++) {\n",
       "        toinsert[0].firstChild.setAttribute(script_attrs[i].name, script_attrs[i].value);\n",
       "      }\n",
       "      // store reference to server id on output_area\n",
       "      output_area._bokeh_server_id = output.metadata[EXEC_MIME_TYPE][\"server_id\"];\n",
       "    }\n",
       "  }\n",
       "\n",
       "  function register_renderer(events, OutputArea) {\n",
       "\n",
       "    function append_mime(data, metadata, element) {\n",
       "      // create a DOM node to render to\n",
       "      var toinsert = this.create_output_subarea(\n",
       "        metadata,\n",
       "        CLASS_NAME,\n",
       "        EXEC_MIME_TYPE\n",
       "      );\n",
       "      this.keyboard_manager.register_events(toinsert);\n",
       "      // Render to node\n",
       "      var props = {data: data, metadata: metadata[EXEC_MIME_TYPE]};\n",
       "      render(props, toinsert[0]);\n",
       "      element.append(toinsert);\n",
       "      return toinsert\n",
       "    }\n",
       "\n",
       "    /* Handle when an output is cleared or removed */\n",
       "    events.on('clear_output.CodeCell', handleClearOutput);\n",
       "    events.on('delete.Cell', handleClearOutput);\n",
       "\n",
       "    /* Handle when a new output is added */\n",
       "    events.on('output_added.OutputArea', handleAddOutput);\n",
       "\n",
       "    /**\n",
       "     * Register the mime type and append_mime function with output_area\n",
       "     */\n",
       "    OutputArea.prototype.register_mime_type(EXEC_MIME_TYPE, append_mime, {\n",
       "      /* Is output safe? */\n",
       "      safe: true,\n",
       "      /* Index of renderer in `output_area.display_order` */\n",
       "      index: 0\n",
       "    });\n",
       "  }\n",
       "\n",
       "  // register the mime type if in Jupyter Notebook environment and previously unregistered\n",
       "  if (root.Jupyter !== undefined) {\n",
       "    var events = require('base/js/events');\n",
       "    var OutputArea = require('notebook/js/outputarea').OutputArea;\n",
       "\n",
       "    if (OutputArea.prototype.mime_types().indexOf(EXEC_MIME_TYPE) == -1) {\n",
       "      register_renderer(events, OutputArea);\n",
       "    }\n",
       "  }\n",
       "\n",
       "  \n",
       "  if (typeof (root._bokeh_timeout) === \"undefined\" || force === true) {\n",
       "    root._bokeh_timeout = Date.now() + 5000;\n",
       "    root._bokeh_failed_load = false;\n",
       "  }\n",
       "\n",
       "  var NB_LOAD_WARNING = {'data': {'text/html':\n",
       "     \"<div style='background-color: #fdd'>\\n\"+\n",
       "     \"<p>\\n\"+\n",
       "     \"BokehJS does not appear to have successfully loaded. If loading BokehJS from CDN, this \\n\"+\n",
       "     \"may be due to a slow or bad network connection. Possible fixes:\\n\"+\n",
       "     \"</p>\\n\"+\n",
       "     \"<ul>\\n\"+\n",
       "     \"<li>re-rerun `output_notebook()` to attempt to load from CDN again, or</li>\\n\"+\n",
       "     \"<li>use INLINE resources instead, as so:</li>\\n\"+\n",
       "     \"</ul>\\n\"+\n",
       "     \"<code>\\n\"+\n",
       "     \"from bokeh.resources import INLINE\\n\"+\n",
       "     \"output_notebook(resources=INLINE)\\n\"+\n",
       "     \"</code>\\n\"+\n",
       "     \"</div>\"}};\n",
       "\n",
       "  function display_loaded() {\n",
       "    var el = document.getElementById(\"6cec1573-beb2-411e-bce4-f51fdf3e9160\");\n",
       "    if (el != null) {\n",
       "      el.textContent = \"BokehJS is loading...\";\n",
       "    }\n",
       "    if (root.Bokeh !== undefined) {\n",
       "      if (el != null) {\n",
       "        el.textContent = \"BokehJS \" + root.Bokeh.version + \" successfully loaded.\";\n",
       "      }\n",
       "    } else if (Date.now() < root._bokeh_timeout) {\n",
       "      setTimeout(display_loaded, 100)\n",
       "    }\n",
       "  }\n",
       "\n",
       "\n",
       "  function run_callbacks() {\n",
       "    try {\n",
       "      root._bokeh_onload_callbacks.forEach(function(callback) { callback() });\n",
       "    }\n",
       "    finally {\n",
       "      delete root._bokeh_onload_callbacks\n",
       "    }\n",
       "    console.info(\"Bokeh: all callbacks have finished\");\n",
       "  }\n",
       "\n",
       "  function load_libs(js_urls, callback) {\n",
       "    root._bokeh_onload_callbacks.push(callback);\n",
       "    if (root._bokeh_is_loading > 0) {\n",
       "      console.log(\"Bokeh: BokehJS is being loaded, scheduling callback at\", now());\n",
       "      return null;\n",
       "    }\n",
       "    if (js_urls == null || js_urls.length === 0) {\n",
       "      run_callbacks();\n",
       "      return null;\n",
       "    }\n",
       "    console.log(\"Bokeh: BokehJS not loaded, scheduling load and callback at\", now());\n",
       "    root._bokeh_is_loading = js_urls.length;\n",
       "    for (var i = 0; i < js_urls.length; i++) {\n",
       "      var url = js_urls[i];\n",
       "      var s = document.createElement('script');\n",
       "      s.src = url;\n",
       "      s.async = false;\n",
       "      s.onreadystatechange = s.onload = function() {\n",
       "        root._bokeh_is_loading--;\n",
       "        if (root._bokeh_is_loading === 0) {\n",
       "          console.log(\"Bokeh: all BokehJS libraries loaded\");\n",
       "          run_callbacks()\n",
       "        }\n",
       "      };\n",
       "      s.onerror = function() {\n",
       "        console.warn(\"failed to load library \" + url);\n",
       "      };\n",
       "      console.log(\"Bokeh: injecting script tag for BokehJS library: \", url);\n",
       "      document.getElementsByTagName(\"head\")[0].appendChild(s);\n",
       "    }\n",
       "  };var element = document.getElementById(\"6cec1573-beb2-411e-bce4-f51fdf3e9160\");\n",
       "  if (element == null) {\n",
       "    console.log(\"Bokeh: ERROR: autoload.js configured with elementid '6cec1573-beb2-411e-bce4-f51fdf3e9160' but no matching script tag was found. \")\n",
       "    return false;\n",
       "  }\n",
       "\n",
       "  var js_urls = [\"https://cdn.pydata.org/bokeh/release/bokeh-0.12.14.min.js\", \"https://cdn.pydata.org/bokeh/release/bokeh-widgets-0.12.14.min.js\", \"https://cdn.pydata.org/bokeh/release/bokeh-tables-0.12.14.min.js\", \"https://cdn.pydata.org/bokeh/release/bokeh-gl-0.12.14.min.js\"];\n",
       "\n",
       "  var inline_js = [\n",
       "    function(Bokeh) {\n",
       "      Bokeh.set_log_level(\"info\");\n",
       "    },\n",
       "    \n",
       "    function(Bokeh) {\n",
       "      \n",
       "    },\n",
       "    function(Bokeh) {\n",
       "      console.log(\"Bokeh: injecting CSS: https://cdn.pydata.org/bokeh/release/bokeh-0.12.14.min.css\");\n",
       "      Bokeh.embed.inject_css(\"https://cdn.pydata.org/bokeh/release/bokeh-0.12.14.min.css\");\n",
       "      console.log(\"Bokeh: injecting CSS: https://cdn.pydata.org/bokeh/release/bokeh-widgets-0.12.14.min.css\");\n",
       "      Bokeh.embed.inject_css(\"https://cdn.pydata.org/bokeh/release/bokeh-widgets-0.12.14.min.css\");\n",
       "      console.log(\"Bokeh: injecting CSS: https://cdn.pydata.org/bokeh/release/bokeh-tables-0.12.14.min.css\");\n",
       "      Bokeh.embed.inject_css(\"https://cdn.pydata.org/bokeh/release/bokeh-tables-0.12.14.min.css\");\n",
       "    }\n",
       "  ];\n",
       "\n",
       "  function run_inline_js() {\n",
       "    \n",
       "    if ((root.Bokeh !== undefined) || (force === true)) {\n",
       "      for (var i = 0; i < inline_js.length; i++) {\n",
       "        inline_js[i].call(root, root.Bokeh);\n",
       "      }if (force === true) {\n",
       "        display_loaded();\n",
       "      }} else if (Date.now() < root._bokeh_timeout) {\n",
       "      setTimeout(run_inline_js, 100);\n",
       "    } else if (!root._bokeh_failed_load) {\n",
       "      console.log(\"Bokeh: BokehJS failed to load within specified timeout.\");\n",
       "      root._bokeh_failed_load = true;\n",
       "    } else if (force !== true) {\n",
       "      var cell = $(document.getElementById(\"6cec1573-beb2-411e-bce4-f51fdf3e9160\")).parents('.cell').data().cell;\n",
       "      cell.output_area.append_execute_result(NB_LOAD_WARNING)\n",
       "    }\n",
       "\n",
       "  }\n",
       "\n",
       "  if (root._bokeh_is_loading === 0) {\n",
       "    console.log(\"Bokeh: BokehJS loaded, going straight to plotting\");\n",
       "    run_inline_js();\n",
       "  } else {\n",
       "    load_libs(js_urls, function() {\n",
       "      console.log(\"Bokeh: BokehJS plotting callback run at\", now());\n",
       "      run_inline_js();\n",
       "    });\n",
       "  }\n",
       "}(window));"
      ],
      "application/vnd.bokehjs_load.v0+json": "\n(function(root) {\n  function now() {\n    return new Date();\n  }\n\n  var force = true;\n\n  if (typeof (root._bokeh_onload_callbacks) === \"undefined\" || force === true) {\n    root._bokeh_onload_callbacks = [];\n    root._bokeh_is_loading = undefined;\n  }\n\n  \n\n  \n  if (typeof (root._bokeh_timeout) === \"undefined\" || force === true) {\n    root._bokeh_timeout = Date.now() + 5000;\n    root._bokeh_failed_load = false;\n  }\n\n  var NB_LOAD_WARNING = {'data': {'text/html':\n     \"<div style='background-color: #fdd'>\\n\"+\n     \"<p>\\n\"+\n     \"BokehJS does not appear to have successfully loaded. If loading BokehJS from CDN, this \\n\"+\n     \"may be due to a slow or bad network connection. Possible fixes:\\n\"+\n     \"</p>\\n\"+\n     \"<ul>\\n\"+\n     \"<li>re-rerun `output_notebook()` to attempt to load from CDN again, or</li>\\n\"+\n     \"<li>use INLINE resources instead, as so:</li>\\n\"+\n     \"</ul>\\n\"+\n     \"<code>\\n\"+\n     \"from bokeh.resources import INLINE\\n\"+\n     \"output_notebook(resources=INLINE)\\n\"+\n     \"</code>\\n\"+\n     \"</div>\"}};\n\n  function display_loaded() {\n    var el = document.getElementById(\"6cec1573-beb2-411e-bce4-f51fdf3e9160\");\n    if (el != null) {\n      el.textContent = \"BokehJS is loading...\";\n    }\n    if (root.Bokeh !== undefined) {\n      if (el != null) {\n        el.textContent = \"BokehJS \" + root.Bokeh.version + \" successfully loaded.\";\n      }\n    } else if (Date.now() < root._bokeh_timeout) {\n      setTimeout(display_loaded, 100)\n    }\n  }\n\n\n  function run_callbacks() {\n    try {\n      root._bokeh_onload_callbacks.forEach(function(callback) { callback() });\n    }\n    finally {\n      delete root._bokeh_onload_callbacks\n    }\n    console.info(\"Bokeh: all callbacks have finished\");\n  }\n\n  function load_libs(js_urls, callback) {\n    root._bokeh_onload_callbacks.push(callback);\n    if (root._bokeh_is_loading > 0) {\n      console.log(\"Bokeh: BokehJS is being loaded, scheduling callback at\", now());\n      return null;\n    }\n    if (js_urls == null || js_urls.length === 0) {\n      run_callbacks();\n      return null;\n    }\n    console.log(\"Bokeh: BokehJS not loaded, scheduling load and callback at\", now());\n    root._bokeh_is_loading = js_urls.length;\n    for (var i = 0; i < js_urls.length; i++) {\n      var url = js_urls[i];\n      var s = document.createElement('script');\n      s.src = url;\n      s.async = false;\n      s.onreadystatechange = s.onload = function() {\n        root._bokeh_is_loading--;\n        if (root._bokeh_is_loading === 0) {\n          console.log(\"Bokeh: all BokehJS libraries loaded\");\n          run_callbacks()\n        }\n      };\n      s.onerror = function() {\n        console.warn(\"failed to load library \" + url);\n      };\n      console.log(\"Bokeh: injecting script tag for BokehJS library: \", url);\n      document.getElementsByTagName(\"head\")[0].appendChild(s);\n    }\n  };var element = document.getElementById(\"6cec1573-beb2-411e-bce4-f51fdf3e9160\");\n  if (element == null) {\n    console.log(\"Bokeh: ERROR: autoload.js configured with elementid '6cec1573-beb2-411e-bce4-f51fdf3e9160' but no matching script tag was found. \")\n    return false;\n  }\n\n  var js_urls = [\"https://cdn.pydata.org/bokeh/release/bokeh-0.12.14.min.js\", \"https://cdn.pydata.org/bokeh/release/bokeh-widgets-0.12.14.min.js\", \"https://cdn.pydata.org/bokeh/release/bokeh-tables-0.12.14.min.js\", \"https://cdn.pydata.org/bokeh/release/bokeh-gl-0.12.14.min.js\"];\n\n  var inline_js = [\n    function(Bokeh) {\n      Bokeh.set_log_level(\"info\");\n    },\n    \n    function(Bokeh) {\n      \n    },\n    function(Bokeh) {\n      console.log(\"Bokeh: injecting CSS: https://cdn.pydata.org/bokeh/release/bokeh-0.12.14.min.css\");\n      Bokeh.embed.inject_css(\"https://cdn.pydata.org/bokeh/release/bokeh-0.12.14.min.css\");\n      console.log(\"Bokeh: injecting CSS: https://cdn.pydata.org/bokeh/release/bokeh-widgets-0.12.14.min.css\");\n      Bokeh.embed.inject_css(\"https://cdn.pydata.org/bokeh/release/bokeh-widgets-0.12.14.min.css\");\n      console.log(\"Bokeh: injecting CSS: https://cdn.pydata.org/bokeh/release/bokeh-tables-0.12.14.min.css\");\n      Bokeh.embed.inject_css(\"https://cdn.pydata.org/bokeh/release/bokeh-tables-0.12.14.min.css\");\n    }\n  ];\n\n  function run_inline_js() {\n    \n    if ((root.Bokeh !== undefined) || (force === true)) {\n      for (var i = 0; i < inline_js.length; i++) {\n        inline_js[i].call(root, root.Bokeh);\n      }if (force === true) {\n        display_loaded();\n      }} else if (Date.now() < root._bokeh_timeout) {\n      setTimeout(run_inline_js, 100);\n    } else if (!root._bokeh_failed_load) {\n      console.log(\"Bokeh: BokehJS failed to load within specified timeout.\");\n      root._bokeh_failed_load = true;\n    } else if (force !== true) {\n      var cell = $(document.getElementById(\"6cec1573-beb2-411e-bce4-f51fdf3e9160\")).parents('.cell').data().cell;\n      cell.output_area.append_execute_result(NB_LOAD_WARNING)\n    }\n\n  }\n\n  if (root._bokeh_is_loading === 0) {\n    console.log(\"Bokeh: BokehJS loaded, going straight to plotting\");\n    run_inline_js();\n  } else {\n    load_libs(js_urls, function() {\n      console.log(\"Bokeh: BokehJS plotting callback run at\", now());\n      run_inline_js();\n    });\n  }\n}(window));"
     },
     "metadata": {},
     "output_type": "display_data"
    }
   ],
   "source": [
    "from bokeh.plotting import figure, output_notebook, output_file, show\n",
    "from bokeh.models import HoverTool\n",
    "output_notebook()"
   ]
  },
  {
   "cell_type": "code",
   "execution_count": 9,
   "metadata": {
    "hideCode": false,
    "hidePrompt": false,
    "slideshow": {
     "slide_type": "fragment"
    }
   },
   "outputs": [
    {
     "data": {
      "text/html": [
       "\n",
       "<div class=\"bk-root\">\n",
       "    <div class=\"bk-plotdiv\" id=\"77f79a6f-aff1-464d-8963-5e1c97cf2635\"></div>\n",
       "</div>"
      ]
     },
     "metadata": {},
     "output_type": "display_data"
    },
    {
     "data": {
      "application/javascript": [
       "(function(root) {\n",
       "  function embed_document(root) {\n",
       "    \n",
       "  var docs_json = {\"5b06d1b3-10aa-456e-9a68-18a869e327dc\":{\"roots\":{\"references\":[{\"attributes\":{\"data_source\":{\"id\":\"e7a7adc2-5c2f-49f7-af0e-7dea4069227d\",\"type\":\"ColumnDataSource\"},\"glyph\":{\"id\":\"4c1fcec6-4663-4680-89ad-96a28eb5b8fd\",\"type\":\"Line\"},\"hover_glyph\":null,\"muted_glyph\":null,\"nonselection_glyph\":{\"id\":\"9ae10631-d92b-4e34-aba7-4c72c01b0932\",\"type\":\"Line\"},\"selection_glyph\":null,\"view\":{\"id\":\"609d86f0-34c1-48fd-bf0d-b1c8dfa3ac6c\",\"type\":\"CDSView\"}},\"id\":\"04661880-1387-44b4-8fde-e17ac8ac3ab4\",\"type\":\"GlyphRenderer\"},{\"attributes\":{\"plot\":null,\"text\":\"Angle vs. Time\"},\"id\":\"87c5cac9-a322-44cb-9d5e-140c42c742d5\",\"type\":\"Title\"},{\"attributes\":{},\"id\":\"fc64d57a-8ff9-4bde-b1e3-3788125e0e4c\",\"type\":\"PanTool\"},{\"attributes\":{\"callback\":null,\"column_names\":[\"y\",\"x\"],\"data\":{\"x\":{\"__ndarray__\":\"AAAAAAAY9UAAAAAAwBv1QAAAAACAH/VAAAAAAEAj9UAAAAAAACf1QAAAAADAKvVAAAAAAIAu9UAAAAAAQDL1QAAAAAAANvVAAAAAAMA59UAAAAAAgD31QAAAAABAQfVAAAAAAABF9UAAAAAAwEj1QAAAAACATPVAAAAAAEBQ9UAAAAAAAFT1QAAAAADAV/VAAAAAAIBb9UAAAAAAQF/1QAAAAAAAY/VAAAAAAMBm9UAAAAAAgGr1QAAAAABAbvVAAAAAAABy9UAAAAAAwHX1QAAAAACAefVAAAAAAEB99UAAAAAAAIH1QAAAAADAhPVAAAAAAICI9UAAAAAAgIj1QA==\",\"dtype\":\"float64\",\"shape\":[32]},\"y\":{\"__ndarray__\":\"gEKYNnfjcEBJx1MAfetwQLNcD8qC83BA/VzKk4j7cEAvDYVdjgNxQJZdOyeUC3FANknr8JkTcUBg0Zm6nxtxQA0MSoSlI3FA2Wf0TasrcUDwSlYXsTNxQIQ5puC2O3FAc8bpqbxDcUA/IydzwktxQP8fZTzIU3FAPSurBc5bcUDXUQHP02NxQNs+cJjZa3FAF009Yd9zcUCLTBQo5XtxQDjok+7qg3FA1EjHtPCLcUBkNLp69pNxQAsOeUD8m3FAztUQBgKkcUBfKI/LB6xxQNw+ApENtHFAkO54VhO8cUCqqAIcGcRxQPd5r+EezHFAmgqQpyTUcUCaCpCnJNRxQA==\",\"dtype\":\"float64\",\"shape\":[32]}}},\"id\":\"e7a7adc2-5c2f-49f7-af0e-7dea4069227d\",\"type\":\"ColumnDataSource\"},{\"attributes\":{},\"id\":\"344a9bed-19de-4eba-80e8-fa489e9dabff\",\"type\":\"BasicTickFormatter\"},{\"attributes\":{\"callback\":null,\"column_names\":[\"y\",\"x\"],\"data\":{\"x\":{\"__ndarray__\":\"AAAAAAAY9UAAAAAAwBv1QAAAAACAH/VAAAAAAEAj9UAAAAAAACf1QAAAAADAKvVAAAAAAIAu9UAAAAAAQDL1QAAAAAAANvVAAAAAAMA59UAAAAAAgD31QAAAAABAQfVAAAAAAABF9UAAAAAAwEj1QAAAAACATPVAAAAAAEBQ9UAAAAAAAFT1QAAAAADAV/VAAAAAAIBb9UAAAAAAQF/1QAAAAAAAY/VAAAAAAMBm9UAAAAAAgGr1QAAAAABAbvVAAAAAAABy9UAAAAAAwHX1QAAAAACAefVAAAAAAEB99UAAAAAAAIH1QAAAAADAhPVAAAAAAICI9UAAAAAAgIj1QA==\",\"dtype\":\"float64\",\"shape\":[32]},\"y\":{\"__ndarray__\":\"4tTcvE/gcEBJJyCPVehwQHuHOHFb8HBAKDMlY2H4cEBDA+ZkZwBxQE4sdnZtCHFA/53Sl3MQcUAS//7IeRhxQG+7/AmAIHFAbEfCWoYocUCaugq7jDBxQE4DCiuTOHFAKszCqplAcUA6Dzg6oEhxQPYVbdmmUHFAJnlliK1YcUDeICVHtGBxQG9EsBW7aHFA3GBH88FwcUAL/ZDeyHhxQJOVJtnPgHFAPaEN49aIcUCi5Uv83ZBxQB135yTlmHFArLjmXOygcUDZW1Ck86hxQJ1gK/v6sHFAPRV/YQK5cUAuFlPXCcFxQPZNr1wRyXFAAfWb8RjRcUAB9ZvxGNFxQA==\",\"dtype\":\"float64\",\"shape\":[32]}}},\"id\":\"adff36ad-c3a3-404f-b10a-f16d52da0e0a\",\"type\":\"ColumnDataSource\"},{\"attributes\":{\"data_source\":{\"id\":\"adff36ad-c3a3-404f-b10a-f16d52da0e0a\",\"type\":\"ColumnDataSource\"},\"glyph\":{\"id\":\"2acd8aef-cf22-4737-b234-07cc21d1223c\",\"type\":\"Line\"},\"hover_glyph\":null,\"muted_glyph\":null,\"nonselection_glyph\":{\"id\":\"0a13bc4e-c585-4b1f-be3e-00488d8f54d0\",\"type\":\"Line\"},\"selection_glyph\":null,\"view\":{\"id\":\"efb4c79a-965f-41ca-8ad1-d8a00ada6d40\",\"type\":\"CDSView\"}},\"id\":\"957f706f-ca36-4eec-9109-74cb2e9550f7\",\"type\":\"GlyphRenderer\"},{\"attributes\":{\"data_source\":{\"id\":\"5a35e646-86c1-4e83-b210-a8949670781e\",\"type\":\"ColumnDataSource\"},\"glyph\":{\"id\":\"e66c37f1-8f87-4e51-bd04-dae5c1dac73a\",\"type\":\"Line\"},\"hover_glyph\":null,\"muted_glyph\":null,\"nonselection_glyph\":{\"id\":\"644fc83e-0883-4275-b804-4ff00870246f\",\"type\":\"Line\"},\"selection_glyph\":null,\"view\":{\"id\":\"90d0b57a-bbb8-497a-b689-5142ea590caf\",\"type\":\"CDSView\"}},\"id\":\"b6db8911-236e-4775-817a-3b1234341624\",\"type\":\"GlyphRenderer\"},{\"attributes\":{\"source\":{\"id\":\"5a35e646-86c1-4e83-b210-a8949670781e\",\"type\":\"ColumnDataSource\"}},\"id\":\"90d0b57a-bbb8-497a-b689-5142ea590caf\",\"type\":\"CDSView\"},{\"attributes\":{\"label\":{\"value\":\"E, Eccentric Anomaly\"},\"renderers\":[{\"id\":\"957f706f-ca36-4eec-9109-74cb2e9550f7\",\"type\":\"GlyphRenderer\"}]},\"id\":\"cb100ebb-0d71-40f3-a97a-e36eefddf9ae\",\"type\":\"LegendItem\"},{\"attributes\":{\"callback\":null,\"renderers\":[{\"id\":\"957f706f-ca36-4eec-9109-74cb2e9550f7\",\"type\":\"GlyphRenderer\"}],\"tooltips\":[[\"(t,E)\",\"($x, $y)\"]]},\"id\":\"1d3f2002-c2ad-4841-a35a-737443ceb274\",\"type\":\"HoverTool\"},{\"attributes\":{\"overlay\":{\"id\":\"e5170b2f-3d0d-48d3-9c0e-5f06031c9953\",\"type\":\"BoxAnnotation\"}},\"id\":\"a3920a4b-e6bc-43d8-8cf7-6c4c40c5c9ea\",\"type\":\"BoxZoomTool\"},{\"attributes\":{\"axis_label\":\"Angle (deg)\",\"formatter\":{\"id\":\"344a9bed-19de-4eba-80e8-fa489e9dabff\",\"type\":\"BasicTickFormatter\"},\"plot\":{\"id\":\"ea9c23ca-3405-4c73-9d87-0550dde32a86\",\"subtype\":\"Figure\",\"type\":\"Plot\"},\"ticker\":{\"id\":\"7a44b77b-57db-4f4f-b09c-5d565d67dfe8\",\"type\":\"BasicTicker\"}},\"id\":\"a85d4ccb-97bb-49e9-a975-617b813504d0\",\"type\":\"LinearAxis\"},{\"attributes\":{\"line_color\":\"green\",\"line_width\":2,\"x\":{\"field\":\"x\"},\"y\":{\"field\":\"y\"}},\"id\":\"2acd8aef-cf22-4737-b234-07cc21d1223c\",\"type\":\"Line\"},{\"attributes\":{\"axis_label\":\"Time (EpSec)\",\"formatter\":{\"id\":\"e5ff855e-cf4f-4ae5-84a0-76425ee38d34\",\"type\":\"BasicTickFormatter\"},\"plot\":{\"id\":\"ea9c23ca-3405-4c73-9d87-0550dde32a86\",\"subtype\":\"Figure\",\"type\":\"Plot\"},\"ticker\":{\"id\":\"b6c9f557-e894-4915-bbfa-f2e4f53d1d83\",\"type\":\"BasicTicker\"}},\"id\":\"5ebbbdbc-d2b9-42af-9444-ade364aedbd8\",\"type\":\"LinearAxis\"},{\"attributes\":{\"line_alpha\":0.1,\"line_color\":\"#1f77b4\",\"line_width\":2,\"x\":{\"field\":\"x\"},\"y\":{\"field\":\"y\"}},\"id\":\"9ae10631-d92b-4e34-aba7-4c72c01b0932\",\"type\":\"Line\"},{\"attributes\":{\"active_drag\":\"auto\",\"active_inspect\":\"auto\",\"active_scroll\":\"auto\",\"active_tap\":\"auto\",\"tools\":[{\"id\":\"fc64d57a-8ff9-4bde-b1e3-3788125e0e4c\",\"type\":\"PanTool\"},{\"id\":\"72f3082e-4646-428e-a2eb-6b96b798c91e\",\"type\":\"WheelZoomTool\"},{\"id\":\"a3920a4b-e6bc-43d8-8cf7-6c4c40c5c9ea\",\"type\":\"BoxZoomTool\"},{\"id\":\"09a1c754-a79c-4b60-a817-5b168e5a396d\",\"type\":\"ResetTool\"},{\"id\":\"3ea1f0ee-5442-4869-8bcc-cee537cbea5c\",\"type\":\"CrosshairTool\"},{\"id\":\"c47090ae-54b0-477f-a64e-78f10cb09375\",\"type\":\"SaveTool\"},{\"id\":\"4f8bfd83-6294-416b-b5de-356c2aee656d\",\"type\":\"HoverTool\"},{\"id\":\"1d3f2002-c2ad-4841-a35a-737443ceb274\",\"type\":\"HoverTool\"},{\"id\":\"99dbd981-500f-424b-b30a-c091b5e7bd36\",\"type\":\"HoverTool\"}]},\"id\":\"10bb0174-b151-448d-88b1-d2bbecb0433c\",\"type\":\"Toolbar\"},{\"attributes\":{\"callback\":null,\"renderers\":[{\"id\":\"b6db8911-236e-4775-817a-3b1234341624\",\"type\":\"GlyphRenderer\"}],\"tooltips\":[[\"(t,theta)\",\"($x, $y)\"]]},\"id\":\"99dbd981-500f-424b-b30a-c091b5e7bd36\",\"type\":\"HoverTool\"},{\"attributes\":{},\"id\":\"3ea1f0ee-5442-4869-8bcc-cee537cbea5c\",\"type\":\"CrosshairTool\"},{\"attributes\":{\"items\":[{\"id\":\"8add7d28-f9ed-49bb-b56f-56bba7549f7b\",\"type\":\"LegendItem\"},{\"id\":\"cb100ebb-0d71-40f3-a97a-e36eefddf9ae\",\"type\":\"LegendItem\"},{\"id\":\"1922b623-d632-41d4-ac1d-dd8fb2cb9b4a\",\"type\":\"LegendItem\"}],\"plot\":{\"id\":\"ea9c23ca-3405-4c73-9d87-0550dde32a86\",\"subtype\":\"Figure\",\"type\":\"Plot\"}},\"id\":\"706887c7-a9ba-42f9-813a-c9de62555224\",\"type\":\"Legend\"},{\"attributes\":{\"callback\":null},\"id\":\"0056b40e-272d-40fa-8a00-c979f72d4630\",\"type\":\"DataRange1d\"},{\"attributes\":{},\"id\":\"8208c762-f64f-4c29-8a3b-00339898031a\",\"type\":\"LinearScale\"},{\"attributes\":{},\"id\":\"7a44b77b-57db-4f4f-b09c-5d565d67dfe8\",\"type\":\"BasicTicker\"},{\"attributes\":{},\"id\":\"e5ff855e-cf4f-4ae5-84a0-76425ee38d34\",\"type\":\"BasicTickFormatter\"},{\"attributes\":{},\"id\":\"09a1c754-a79c-4b60-a817-5b168e5a396d\",\"type\":\"ResetTool\"},{\"attributes\":{},\"id\":\"93bb798d-4847-4b3a-a950-11324af71c16\",\"type\":\"LinearScale\"},{\"attributes\":{\"source\":{\"id\":\"adff36ad-c3a3-404f-b10a-f16d52da0e0a\",\"type\":\"ColumnDataSource\"}},\"id\":\"efb4c79a-965f-41ca-8ad1-d8a00ada6d40\",\"type\":\"CDSView\"},{\"attributes\":{\"source\":{\"id\":\"e7a7adc2-5c2f-49f7-af0e-7dea4069227d\",\"type\":\"ColumnDataSource\"}},\"id\":\"609d86f0-34c1-48fd-bf0d-b1c8dfa3ac6c\",\"type\":\"CDSView\"},{\"attributes\":{},\"id\":\"b6c9f557-e894-4915-bbfa-f2e4f53d1d83\",\"type\":\"BasicTicker\"},{\"attributes\":{\"line_alpha\":0.1,\"line_color\":\"#1f77b4\",\"line_width\":2,\"x\":{\"field\":\"x\"},\"y\":{\"field\":\"y\"}},\"id\":\"644fc83e-0883-4275-b804-4ff00870246f\",\"type\":\"Line\"},{\"attributes\":{\"callback\":null},\"id\":\"9fafe6e3-feab-47c9-9a65-b71a2ef70e35\",\"type\":\"DataRange1d\"},{\"attributes\":{\"line_alpha\":0.1,\"line_color\":\"#1f77b4\",\"line_width\":2,\"x\":{\"field\":\"x\"},\"y\":{\"field\":\"y\"}},\"id\":\"0a13bc4e-c585-4b1f-be3e-00488d8f54d0\",\"type\":\"Line\"},{\"attributes\":{},\"id\":\"c47090ae-54b0-477f-a64e-78f10cb09375\",\"type\":\"SaveTool\"},{\"attributes\":{\"label\":{\"value\":\"\\u03b8, True Anomaly\"},\"renderers\":[{\"id\":\"b6db8911-236e-4775-817a-3b1234341624\",\"type\":\"GlyphRenderer\"}]},\"id\":\"1922b623-d632-41d4-ac1d-dd8fb2cb9b4a\",\"type\":\"LegendItem\"},{\"attributes\":{\"line_color\":\"blue\",\"line_width\":2,\"x\":{\"field\":\"x\"},\"y\":{\"field\":\"y\"}},\"id\":\"e66c37f1-8f87-4e51-bd04-dae5c1dac73a\",\"type\":\"Line\"},{\"attributes\":{\"bottom_units\":\"screen\",\"fill_alpha\":{\"value\":0.5},\"fill_color\":{\"value\":\"lightgrey\"},\"left_units\":\"screen\",\"level\":\"overlay\",\"line_alpha\":{\"value\":1.0},\"line_color\":{\"value\":\"black\"},\"line_dash\":[4,4],\"line_width\":{\"value\":2},\"plot\":null,\"render_mode\":\"css\",\"right_units\":\"screen\",\"top_units\":\"screen\"},\"id\":\"e5170b2f-3d0d-48d3-9c0e-5f06031c9953\",\"type\":\"BoxAnnotation\"},{\"attributes\":{\"label\":{\"value\":\"M, Mean Anomaly\"},\"renderers\":[{\"id\":\"04661880-1387-44b4-8fde-e17ac8ac3ab4\",\"type\":\"GlyphRenderer\"}]},\"id\":\"8add7d28-f9ed-49bb-b56f-56bba7549f7b\",\"type\":\"LegendItem\"},{\"attributes\":{\"callback\":null,\"column_names\":[\"y\",\"x\"],\"data\":{\"x\":{\"__ndarray__\":\"AAAAAAAY9UAAAAAAwBv1QAAAAACAH/VAAAAAAEAj9UAAAAAAACf1QAAAAADAKvVAAAAAAIAu9UAAAAAAQDL1QAAAAAAANvVAAAAAAMA59UAAAAAAgD31QAAAAABAQfVAAAAAAABF9UAAAAAAwEj1QAAAAACATPVAAAAAAEBQ9UAAAAAAAFT1QAAAAADAV/VAAAAAAIBb9UAAAAAAQF/1QAAAAAAAY/VAAAAAAMBm9UAAAAAAgGr1QAAAAABAbvVAAAAAAABy9UAAAAAAwHX1QAAAAACAefVAAAAAAEB99UAAAAAAAIH1QAAAAADAhPVAAAAAAICI9UAAAAAAgIj1QA==\",\"dtype\":\"float64\",\"shape\":[32]},\"y\":{\"__ndarray__\":\"9g6aQijdcEAufkgaLuVwQAMtoRE07XBABnujKDr1cECLE09fQP1wQMGtnrVGBXFAYmyOK00NcUDj2SDBUxVxQEP2VXZaHXFAp3kiS2ElcUASaz8/aC1xQKhg3lJvNXFAalr/hXY9cUBXWKLYfUVxQHFax0qFTXFAt2Bu3IxVcUAoa5eNlF1xQMd5Ql6cZXFANmirTaRtcUCesHNarHVxQB/cL4a0fXFAs+rf0LyFcUBh3IM6xY1xQCSxG8PNlXFA/2inatadcUDxAycx36VxQPmBmhborXFAGOMBG/G1cUBOJ10++r1xQJ1OrIADxnFAAFnv4QzOcUAAWe/hDM5xQA==\",\"dtype\":\"float64\",\"shape\":[32]}}},\"id\":\"5a35e646-86c1-4e83-b210-a8949670781e\",\"type\":\"ColumnDataSource\"},{\"attributes\":{},\"id\":\"72f3082e-4646-428e-a2eb-6b96b798c91e\",\"type\":\"WheelZoomTool\"},{\"attributes\":{\"background_fill_color\":{\"value\":\"khaki\"},\"below\":[{\"id\":\"5ebbbdbc-d2b9-42af-9444-ade364aedbd8\",\"type\":\"LinearAxis\"}],\"left\":[{\"id\":\"a85d4ccb-97bb-49e9-a975-617b813504d0\",\"type\":\"LinearAxis\"}],\"plot_height\":700,\"plot_width\":900,\"renderers\":[{\"id\":\"5ebbbdbc-d2b9-42af-9444-ade364aedbd8\",\"type\":\"LinearAxis\"},{\"id\":\"b696a8a7-670f-4590-80af-49628714db5d\",\"type\":\"Grid\"},{\"id\":\"a85d4ccb-97bb-49e9-a975-617b813504d0\",\"type\":\"LinearAxis\"},{\"id\":\"c0777b13-468c-412c-8348-e11ba6889e92\",\"type\":\"Grid\"},{\"id\":\"e5170b2f-3d0d-48d3-9c0e-5f06031c9953\",\"type\":\"BoxAnnotation\"},{\"id\":\"706887c7-a9ba-42f9-813a-c9de62555224\",\"type\":\"Legend\"},{\"id\":\"04661880-1387-44b4-8fde-e17ac8ac3ab4\",\"type\":\"GlyphRenderer\"},{\"id\":\"957f706f-ca36-4eec-9109-74cb2e9550f7\",\"type\":\"GlyphRenderer\"},{\"id\":\"b6db8911-236e-4775-817a-3b1234341624\",\"type\":\"GlyphRenderer\"}],\"title\":{\"id\":\"87c5cac9-a322-44cb-9d5e-140c42c742d5\",\"type\":\"Title\"},\"toolbar\":{\"id\":\"10bb0174-b151-448d-88b1-d2bbecb0433c\",\"type\":\"Toolbar\"},\"x_range\":{\"id\":\"0056b40e-272d-40fa-8a00-c979f72d4630\",\"type\":\"DataRange1d\"},\"x_scale\":{\"id\":\"8208c762-f64f-4c29-8a3b-00339898031a\",\"type\":\"LinearScale\"},\"y_range\":{\"id\":\"9fafe6e3-feab-47c9-9a65-b71a2ef70e35\",\"type\":\"DataRange1d\"},\"y_scale\":{\"id\":\"93bb798d-4847-4b3a-a950-11324af71c16\",\"type\":\"LinearScale\"}},\"id\":\"ea9c23ca-3405-4c73-9d87-0550dde32a86\",\"subtype\":\"Figure\",\"type\":\"Plot\"},{\"attributes\":{\"callback\":null,\"renderers\":[{\"id\":\"04661880-1387-44b4-8fde-e17ac8ac3ab4\",\"type\":\"GlyphRenderer\"}],\"tooltips\":[[\"(t,M)\",\"($x, $y)\"]]},\"id\":\"4f8bfd83-6294-416b-b5de-356c2aee656d\",\"type\":\"HoverTool\"},{\"attributes\":{\"grid_line_alpha\":{\"value\":0.8},\"grid_line_color\":{\"value\":\"black\"},\"minor_grid_line_alpha\":{\"value\":0.2},\"minor_grid_line_color\":{\"value\":\"black\"},\"plot\":{\"id\":\"ea9c23ca-3405-4c73-9d87-0550dde32a86\",\"subtype\":\"Figure\",\"type\":\"Plot\"},\"ticker\":{\"id\":\"b6c9f557-e894-4915-bbfa-f2e4f53d1d83\",\"type\":\"BasicTicker\"}},\"id\":\"b696a8a7-670f-4590-80af-49628714db5d\",\"type\":\"Grid\"},{\"attributes\":{\"dimension\":1,\"grid_line_alpha\":{\"value\":0.8},\"grid_line_color\":{\"value\":\"black\"},\"minor_grid_line_alpha\":{\"value\":0.25},\"minor_grid_line_color\":{\"value\":\"black\"},\"plot\":{\"id\":\"ea9c23ca-3405-4c73-9d87-0550dde32a86\",\"subtype\":\"Figure\",\"type\":\"Plot\"},\"ticker\":{\"id\":\"7a44b77b-57db-4f4f-b09c-5d565d67dfe8\",\"type\":\"BasicTicker\"}},\"id\":\"c0777b13-468c-412c-8348-e11ba6889e92\",\"type\":\"Grid\"},{\"attributes\":{\"line_color\":\"red\",\"line_width\":2,\"x\":{\"field\":\"x\"},\"y\":{\"field\":\"y\"}},\"id\":\"4c1fcec6-4663-4680-89ad-96a28eb5b8fd\",\"type\":\"Line\"}],\"root_ids\":[\"ea9c23ca-3405-4c73-9d87-0550dde32a86\"]},\"title\":\"Bokeh Application\",\"version\":\"0.12.14\"}};\n",
       "  var render_items = [{\"docid\":\"5b06d1b3-10aa-456e-9a68-18a869e327dc\",\"elementid\":\"77f79a6f-aff1-464d-8963-5e1c97cf2635\",\"modelid\":\"ea9c23ca-3405-4c73-9d87-0550dde32a86\"}];\n",
       "  root.Bokeh.embed.embed_items_notebook(docs_json, render_items);\n",
       "\n",
       "  }\n",
       "  if (root.Bokeh !== undefined) {\n",
       "    embed_document(root);\n",
       "  } else {\n",
       "    var attempts = 0;\n",
       "    var timer = setInterval(function(root) {\n",
       "      if (root.Bokeh !== undefined) {\n",
       "        embed_document(root);\n",
       "        clearInterval(timer);\n",
       "      }\n",
       "      attempts++;\n",
       "      if (attempts > 100) {\n",
       "        console.log(\"Bokeh: ERROR: Unable to run BokehJS code because BokehJS library is missing\")\n",
       "        clearInterval(timer);\n",
       "      }\n",
       "    }, 10, root)\n",
       "  }\n",
       "})(window);"
      ],
      "application/vnd.bokehjs_exec.v0+json": ""
     },
     "metadata": {
      "application/vnd.bokehjs_exec.v0+json": {
       "id": "ea9c23ca-3405-4c73-9d87-0550dde32a86"
      }
     },
     "output_type": "display_data"
    }
   ],
   "source": [
    "p = figure(width=900, height=700, \n",
    "           title=\"Angle vs. Time\",\n",
    "          tools=\"pan,wheel_zoom,box_zoom,reset,crosshair, save\")\n",
    "\n",
    "p.xaxis.axis_label = 'Time (EpSec)'\n",
    "p.yaxis.axis_label = 'Angle (deg)'\n",
    "p.background_fill_color = \"khaki\"\n",
    "\n",
    "p.xgrid.grid_line_color = 'black'\n",
    "p.xgrid[0].grid_line_alpha=0.8\n",
    "p.xgrid.minor_grid_line_color = 'black'\n",
    "p.xgrid.minor_grid_line_alpha = 0.2\n",
    "\n",
    "p.ygrid.grid_line_color = 'black'\n",
    "p.ygrid[0].grid_line_alpha=0.8\n",
    "p.ygrid.minor_grid_line_color = 'black'\n",
    "p.ygrid.minor_grid_line_alpha = 0.25\n",
    "\n",
    "l1 = p.line(x=time, y=M, color='red', line_width=2, legend='M, Mean Anomaly')\n",
    "p.add_tools(HoverTool(renderers=[l1], tooltips=[(\"(t,M)\", \"($x, $y)\"),]))\n",
    "\n",
    "l2 = p.line(x=time, y=E, color='green', line_width=2, legend='E, Eccentric Anomaly')\n",
    "p.add_tools(HoverTool(renderers=[l2], tooltips=[(\"(t,E)\", \"($x, $y)\"),]))\n",
    "\n",
    "l3 = p.line(x=time, y=theta, color='blue', line_width=2, legend='θ, True Anomaly')\n",
    "p.add_tools(HoverTool(renderers=[l3], tooltips=[(\"(t,theta)\", \"($x, $y)\"),]))\n",
    "\n",
    "show(p)"
   ]
  },
  {
   "cell_type": "markdown",
   "metadata": {
    "slideshow": {
     "slide_type": "slide"
    }
   },
   "source": [
    "To see all of the commands we have, we can do a directory of the `mod` object:"
   ]
  },
  {
   "cell_type": "code",
   "execution_count": 10,
   "metadata": {
    "scrolled": false,
    "slideshow": {
     "slide_type": "fragment"
    }
   },
   "outputs": [
    {
     "data": {
      "text/plain": [
       "['_ModelicaSystem__checkAvailability',\n",
       " '_ModelicaSystem__checkTuple',\n",
       " '_ModelicaSystem__createQuantitiesList',\n",
       " '_ModelicaSystem__getContinuousNames',\n",
       " '_ModelicaSystem__getContinuousValues',\n",
       " '_ModelicaSystem__getInputNames',\n",
       " '_ModelicaSystem__getInputValues',\n",
       " '_ModelicaSystem__getMatrix',\n",
       " '_ModelicaSystem__getMatrixA',\n",
       " '_ModelicaSystem__getMatrixB',\n",
       " '_ModelicaSystem__getMatrixC',\n",
       " '_ModelicaSystem__getMatrixD',\n",
       " '_ModelicaSystem__getOutputNames',\n",
       " '_ModelicaSystem__getOutputValues',\n",
       " '_ModelicaSystem__getParameterNames',\n",
       " '_ModelicaSystem__getParameterValues',\n",
       " '_ModelicaSystem__getQuantitiesNames',\n",
       " '_ModelicaSystem__getSimulationValues',\n",
       " '_ModelicaSystem__getXXXs',\n",
       " '_ModelicaSystem__loadingModel',\n",
       " '_ModelicaSystem__setInputSize',\n",
       " '_ModelicaSystem__setOptions',\n",
       " '_ModelicaSystem__setValue',\n",
       " '_ModelicaSystem__simInput',\n",
       " '__class__',\n",
       " '__del__',\n",
       " '__delattr__',\n",
       " '__dict__',\n",
       " '__dir__',\n",
       " '__doc__',\n",
       " '__eq__',\n",
       " '__format__',\n",
       " '__ge__',\n",
       " '__getattribute__',\n",
       " '__gt__',\n",
       " '__hash__',\n",
       " '__init__',\n",
       " '__le__',\n",
       " '__lt__',\n",
       " '__module__',\n",
       " '__ne__',\n",
       " '__new__',\n",
       " '__reduce__',\n",
       " '__reduce_ex__',\n",
       " '__repr__',\n",
       " '__setattr__',\n",
       " '__sizeof__',\n",
       " '__str__',\n",
       " '__subclasshook__',\n",
       " '__weakref__',\n",
       " 'cNamesList',\n",
       " 'cValuesList',\n",
       " 'convertFmu2Mo',\n",
       " 'convertMo2Fmu',\n",
       " 'csvFile',\n",
       " 'currDir',\n",
       " 'fileName',\n",
       " 'fileName_',\n",
       " 'getContinuous',\n",
       " 'getInputs',\n",
       " 'getLinearInputs',\n",
       " 'getLinearOutputs',\n",
       " 'getLinearQuantityInformation',\n",
       " 'getLinearStates',\n",
       " 'getLinearizationOptions',\n",
       " 'getOptimizationOptions',\n",
       " 'getOutputs',\n",
       " 'getParameters',\n",
       " 'getQuantities',\n",
       " 'getSimulationOptions',\n",
       " 'getSolutions',\n",
       " 'getconn',\n",
       " 'iNamesList',\n",
       " 'inputFlag',\n",
       " 'inputsVal',\n",
       " 'linearinputs',\n",
       " 'linearizationFlag',\n",
       " 'linearize',\n",
       " 'linearizeOptionsNamesList',\n",
       " 'linearizeOptionsValuesList',\n",
       " 'linearoutputs',\n",
       " 'linearquantitiesList',\n",
       " 'linearstates',\n",
       " 'lmodel',\n",
       " 'model',\n",
       " 'modelDir',\n",
       " 'modelName',\n",
       " 'oNamesList',\n",
       " 'oValuesList',\n",
       " 'optimize',\n",
       " 'optimizeOptionsNamesList',\n",
       " 'optimizeOptionsValuesList',\n",
       " 'outputFlag',\n",
       " 'pNamesList',\n",
       " 'pValuesList',\n",
       " 'qNamesList',\n",
       " 'quantitiesList',\n",
       " 'requestApi',\n",
       " 'root',\n",
       " 'setContinuous',\n",
       " 'setInputs',\n",
       " 'setLinearizationOptions',\n",
       " 'setOptimizationOptions',\n",
       " 'setParameters',\n",
       " 'setSimulationOptions',\n",
       " 'simNamesList',\n",
       " 'simValuesList',\n",
       " 'simulate',\n",
       " 'simulationFlag',\n",
       " 'specialNames',\n",
       " 'tree',\n",
       " 'xmlFile']"
      ]
     },
     "execution_count": 10,
     "metadata": {},
     "output_type": "execute_result"
    }
   ],
   "source": [
    "dir(mod)"
   ]
  },
  {
   "cell_type": "markdown",
   "metadata": {},
   "source": [
    "As you put together your code, you will need to be able to instantiate more than one Satellite object in your model.  You will also have to use the ModelicaSystem object to set parameters of each individual object.  An example of this is below."
   ]
  },
  {
   "cell_type": "code",
   "execution_count": 11,
   "metadata": {
    "hideOutput": false,
    "slideshow": {
     "slide_type": "slide"
    }
   },
   "outputs": [
    {
     "name": "stderr",
     "output_type": "stream",
     "text": [
      "2018-03-09 14:32:12,433 - OMPython - INFO - OMC Server is up and running at file:///C:/Users/Hugh/AppData/Local/Temp/openmodelica.port.270019bde1864ed297d0083d79b46e51\n"
     ]
    },
    {
     "name": "stdout",
     "output_type": "stream",
     "text": [
      "Expected end of text (at char 2183), (line:12, col:34)\n"
     ]
    }
   ],
   "source": [
    "gps=ModelicaSystem(\"C:/Notebooks/ENG4350/SatModel.mo\",\"SatModel.GPS\", \"Modelica.Constants\")"
   ]
  },
  {
   "cell_type": "code",
   "execution_count": 12,
   "metadata": {
    "slideshow": {
     "slide_type": "fragment"
    }
   },
   "outputs": [
    {
     "data": {
      "text/plain": [
       "{'prn11.M0': 280.1424,\n",
       " 'prn11.N0': 2.005527,\n",
       " 'prn11.Nddot6': 0.0,\n",
       " 'prn11.Ndot2': -2.1e-07,\n",
       " 'prn11.ecc': 0.0164899,\n",
       " 'prn13.M0': 267.123,\n",
       " 'prn13.N0': 2.005651,\n",
       " 'prn13.Nddot6': 0.0,\n",
       " 'prn13.Ndot2': 6.8e-07,\n",
       " 'prn13.ecc': 0.0034407}"
      ]
     },
     "execution_count": 12,
     "metadata": {},
     "output_type": "execute_result"
    }
   ],
   "source": [
    "gps.setParameters(**{'prn13.M0':267.1230, 'prn13.N0':2.005651, 'prn13.ecc':0.0034407, 'prn13.Ndot2':0.00000068, \n",
    "                     'prn13.Nddot6':0.})\n",
    "gps.setParameters(**{'prn11.M0':280.1424, 'prn11.N0':2.005527, 'prn11.ecc':0.0164899, 'prn11.Ndot2':-0.00000021, \n",
    "                     'prn11.Nddot6':0.})\n",
    "gps.getParameters()"
   ]
  },
  {
   "cell_type": "markdown",
   "metadata": {
    "slideshow": {
     "slide_type": "slide"
    }
   },
   "source": [
    "It appears that each time you create a `ModelicaSystem` object, you create another connection to OpenModelica.  Python handles this by starting another Windows process.  If you have more than about 5 of these going, Windows complains.  So to shutdown this object we do a `del` in Python"
   ]
  },
  {
   "cell_type": "code",
   "execution_count": 13,
   "metadata": {
    "hidePrompt": false,
    "slideshow": {
     "slide_type": "fragment"
    }
   },
   "outputs": [],
   "source": [
    "del mod"
   ]
  },
  {
   "cell_type": "code",
   "execution_count": 14,
   "metadata": {
    "hideOutput": false,
    "hidePrompt": false,
    "scrolled": true,
    "slideshow": {
     "slide_type": "fragment"
    }
   },
   "outputs": [
    {
     "ename": "NameError",
     "evalue": "name 'mod' is not defined",
     "output_type": "error",
     "traceback": [
      "\u001b[1;31m---------------------------------------------------------------------------\u001b[0m",
      "\u001b[1;31mNameError\u001b[0m                                 Traceback (most recent call last)",
      "\u001b[1;32m<ipython-input-14-c3827ce09ad6>\u001b[0m in \u001b[0;36m<module>\u001b[1;34m()\u001b[0m\n\u001b[1;32m----> 1\u001b[1;33m \u001b[0mmod\u001b[0m\u001b[1;33m.\u001b[0m\u001b[0mgetParameters\u001b[0m\u001b[1;33m(\u001b[0m\u001b[1;33m)\u001b[0m\u001b[1;33m\u001b[0m\u001b[0m\n\u001b[0m",
      "\u001b[1;31mNameError\u001b[0m: name 'mod' is not defined"
     ]
    }
   ],
   "source": [
    "mod.getParameters()"
   ]
  },
  {
   "cell_type": "markdown",
   "metadata": {},
   "source": [
    "The above `getParameters()` generates a Python error..."
   ]
  }
 ],
 "metadata": {
  "celltoolbar": "Hide code",
  "kernelspec": {
   "display_name": "Python [conda env:Anaconda3]",
   "language": "python",
   "name": "conda-env-Anaconda3-py"
  },
  "language_info": {
   "codemirror_mode": {
    "name": "ipython",
    "version": 3
   },
   "file_extension": ".py",
   "mimetype": "text/x-python",
   "name": "python",
   "nbconvert_exporter": "python",
   "pygments_lexer": "ipython3",
   "version": "3.5.4"
  }
 },
 "nbformat": 4,
 "nbformat_minor": 2
}
