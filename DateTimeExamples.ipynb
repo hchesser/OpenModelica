{
 "cells": [
  {
   "cell_type": "markdown",
   "metadata": {
    "hideCode": false,
    "hidePrompt": false,
    "slideshow": {
     "slide_type": "slide"
    }
   },
   "source": [
    "# Python DateTime functions\n",
    "\n",
    "Demonstrates how to convert from TLE `refepoch` format `YYddd.ffffff` to Python `timetuple` and then to `EpSeconds`.\n",
    "\n",
    "First import `numpy` and `datetime` libraries..."
   ]
  },
  {
   "cell_type": "code",
   "execution_count": 35,
   "metadata": {
    "collapsed": true,
    "hideCode": false,
    "hidePrompt": false,
    "slideshow": {
     "slide_type": "-"
    }
   },
   "outputs": [],
   "source": [
    "import datetime as dt\n",
    "import numpy as np"
   ]
  },
  {
   "cell_type": "markdown",
   "metadata": {
    "hideCode": false,
    "hidePrompt": false,
    "slideshow": {
     "slide_type": "slide"
    }
   },
   "source": [
    "...then read in a satellite from the Celestrak `gps-ops.txt` file - get today's here:\n",
    "\n",
    "http://www.celestrak.com/NORAD/elements/gps-ops.txt"
   ]
  },
  {
   "cell_type": "code",
   "execution_count": 49,
   "metadata": {
    "hideCode": false,
    "hidePrompt": false,
    "slideshow": {
     "slide_type": "-"
    }
   },
   "outputs": [
    {
     "name": "stdout",
     "output_type": "stream",
     "text": [
      "GPS BIIR-2  (PRN 13)    \n",
      " 1 24876U 97035A   18050.86160433  .00000068  00000-0  00000+0 0  9999\n",
      " 2 24876  55.5066 217.3716 0034407  93.2441 267.1230  2.00565133150792\n",
      "\n"
     ]
    }
   ],
   "source": [
    "tlefile=open(r'C:\\Notebooks\\ENG4350\\gps-ops.txt', 'rt')\n",
    "\n",
    "line0=tlefile.readline()\n",
    "line1=tlefile.readline()\n",
    "line2=tlefile.readline()\n",
    "\n",
    "tlefile.close()\n",
    "\n",
    "print(line0, line1, line2)"
   ]
  },
  {
   "cell_type": "markdown",
   "metadata": {
    "hideCode": false,
    "hidePrompt": false,
    "slideshow": {
     "slide_type": "slide"
    }
   },
   "source": [
    "...next we extract the epoch from the TLE - its located in line 1, see the Software Specification for details\n",
    "\n",
    "We extract this both as a float and as a string"
   ]
  },
  {
   "cell_type": "code",
   "execution_count": 46,
   "metadata": {
    "hideCode": false,
    "hidePrompt": false,
    "slideshow": {
     "slide_type": "-"
    }
   },
   "outputs": [
    {
     "data": {
      "text/plain": [
       "18050.86160433"
      ]
     },
     "execution_count": 46,
     "metadata": {},
     "output_type": "execute_result"
    }
   ],
   "source": [
    "refepochFloat = np.float(line1[18:32])\n",
    "refepochFloat"
   ]
  },
  {
   "cell_type": "code",
   "execution_count": 7,
   "metadata": {
    "hideCode": false,
    "hidePrompt": false,
    "slideshow": {
     "slide_type": "-"
    }
   },
   "outputs": [
    {
     "data": {
      "text/plain": [
       "'18050.86160433'"
      ]
     },
     "execution_count": 7,
     "metadata": {},
     "output_type": "execute_result"
    }
   ],
   "source": [
    "refepochString = line1[18:32]\n",
    "refepochString"
   ]
  },
  {
   "cell_type": "markdown",
   "metadata": {
    "hideCode": false,
    "hidePrompt": false,
    "slideshow": {
     "slide_type": "slide"
    }
   },
   "source": [
    "...next step is to use the string to convert the year and day number information to a `datetime tuple` \n",
    "\n",
    "- `datetime tuple` - one of Python's data types \n",
    "- note the use of `strptime` (this is actually C function being called in the background!) - the string specifiers are `%y` - 2-digit year and `%j` - day of year, details on the specifiers are here:\n",
    "\n",
    "https://docs.python.org/3.6/library/datetime.html (scroll down to section 8.1.8)"
   ]
  },
  {
   "cell_type": "code",
   "execution_count": 14,
   "metadata": {
    "hideCode": false,
    "hidePrompt": false,
    "slideshow": {
     "slide_type": "-"
    }
   },
   "outputs": [
    {
     "data": {
      "text/plain": [
       "datetime.datetime(2018, 2, 19, 0, 0)"
      ]
     },
     "execution_count": 14,
     "metadata": {},
     "output_type": "execute_result"
    }
   ],
   "source": [
    "RefEpochdt = dt.datetime.strptime(refepochString[:5],'%y%j')\n",
    "RefEpochdt"
   ]
  },
  {
   "cell_type": "markdown",
   "metadata": {
    "hideCode": false,
    "hidePrompt": false,
    "slideshow": {
     "slide_type": "slide"
    }
   },
   "source": [
    "...next step is to add (actually replace) the hour, minute, second and microsecond information from the fraction of a day in the TLE\n",
    "\n",
    "- there is likely a more elegant or *Pythonic* way to do this..."
   ]
  },
  {
   "cell_type": "code",
   "execution_count": 55,
   "metadata": {
    "hideCode": false,
    "hidePrompt": false,
    "slideshow": {
     "slide_type": "-"
    }
   },
   "outputs": [
    {
     "data": {
      "text/plain": [
       "datetime.datetime(2018, 2, 19, 20, 40, 42, 614111)"
      ]
     },
     "execution_count": 55,
     "metadata": {},
     "output_type": "execute_result"
    }
   ],
   "source": [
    "dfrac = refepochFloat - np.int(refepochFloat)\n",
    "hr = np.int(dfrac*24)\n",
    "rem = dfrac*24 - hour\n",
    "mins = np.int(60*rem)\n",
    "rem2 = rem*60 - mins\n",
    "secs = np.int(60*rem2)\n",
    "mics = np.int((rem2*60-secs)*10**6)\n",
    "\n",
    "RefEpochdt = RefEpochdt.replace(hour=hr, minute=mins, \n",
    "                                second=secs, microsecond=mics)\n",
    "\n",
    "RefEpochdt\n"
   ]
  },
  {
   "cell_type": "code",
   "execution_count": 57,
   "metadata": {
    "slideshow": {
     "slide_type": "-"
    }
   },
   "outputs": [
    {
     "name": "stdout",
     "output_type": "stream",
     "text": [
      "19 Feb 2018 20:40:42.614111\n"
     ]
    }
   ],
   "source": [
    "print(RefEpochdt.strftime('%d %b %Y %H:%M:%S.%f'))"
   ]
  },
  {
   "cell_type": "markdown",
   "metadata": {
    "hideCode": false,
    "hidePrompt": false,
    "slideshow": {
     "slide_type": "slide"
    }
   },
   "source": [
    "...last snippet is to demonstrate how to obtain Epseconds\n",
    "\n",
    "- this is the number of seconds from the TLE epoch to a desired time in the future (i.e. the start of your designated tracking time)\n",
    "- we need the UTC time for the tracking period - in the example below, I take the time from the computer's clock and convert to UTC using the time zone settings - but you will need to convert a desired local time to UTC - here we take UTC-5 timezone, 12:00\n",
    "\n",
    "- the second step is to calculate the time delta and convert this to seconds"
   ]
  },
  {
   "cell_type": "code",
   "execution_count": 37,
   "metadata": {
    "hideCode": false,
    "hidePrompt": false,
    "slideshow": {
     "slide_type": "-"
    }
   },
   "outputs": [
    {
     "data": {
      "text/plain": [
       "datetime.datetime(2018, 3, 2, 16, 20, 27, 391741)"
      ]
     },
     "execution_count": 37,
     "metadata": {},
     "output_type": "execute_result"
    }
   ],
   "source": [
    "trackingtime = dt.datetime.utcnow()\n",
    "trackingtime"
   ]
  },
  {
   "cell_type": "code",
   "execution_count": 58,
   "metadata": {
    "hideCode": false,
    "hidePrompt": false,
    "slideshow": {
     "slide_type": "-"
    }
   },
   "outputs": [
    {
     "data": {
      "text/plain": [
       "datetime.timedelta(10, 73157, 385889)"
      ]
     },
     "execution_count": 58,
     "metadata": {},
     "output_type": "execute_result"
    }
   ],
   "source": [
    "trackingtime = trackingtime.replace(hour=17, minute=0, \n",
    "                                    second=0, microsecond=0)\n",
    "deltat = trackingtime - RefEpochdt\n",
    "deltat"
   ]
  },
  {
   "cell_type": "code",
   "execution_count": 59,
   "metadata": {
    "hideCode": false,
    "hidePrompt": false,
    "slideshow": {
     "slide_type": "-"
    }
   },
   "outputs": [
    {
     "data": {
      "text/plain": [
       "937157.385889"
      ]
     },
     "execution_count": 59,
     "metadata": {},
     "output_type": "execute_result"
    }
   ],
   "source": [
    "epsec = deltat.total_seconds()\n",
    "epsec"
   ]
  },
  {
   "cell_type": "markdown",
   "metadata": {
    "hideCode": false,
    "hidePrompt": false,
    "slideshow": {
     "slide_type": "slide"
    }
   },
   "source": [
    "# Check with STK\n",
    "\n",
    "- Read in the above TLE into an STK Scenario\n",
    "\n",
    "- Read properties of the vehicle to see the translation from refepoch to date and time\n",
    "- Construct a report which gives the current time in `EpSec` - which is the seconds since the epoch in the TLE"
   ]
  },
  {
   "cell_type": "code",
   "execution_count": 43,
   "metadata": {
    "hideCode": true,
    "hidePrompt": true
   },
   "outputs": [
    {
     "data": {
      "image/png": "[encoded data removed]",
      "text/plain": [
       "<IPython.core.display.Image object>"
      ]
     },
     "execution_count": 43,
     "metadata": {
      "image/png": {
       "width": 1000
      }
     },
     "output_type": "execute_result"
    }
   ],
   "source": [
    "from IPython.display import Image\n",
    "Image(r'C:\\Users\\Hugh\\Pictures\\ENG4350Images\\STKCheck1.png', width=1000)"
   ]
  }
 ],
 "metadata": {
  "celltoolbar": "Slideshow",
  "hide_code_all_hidden": false,
  "kernelspec": {
   "display_name": "Python [Anaconda3]",
   "language": "python",
   "name": "Python [Anaconda3]"
  },
  "language_info": {
   "codemirror_mode": {
    "name": "ipython",
    "version": 3
   },
   "file_extension": ".py",
   "mimetype": "text/x-python",
   "name": "python",
   "nbconvert_exporter": "python",
   "pygments_lexer": "ipython3",
   "version": "3.5.2"
  }
 },
 "nbformat": 4,
 "nbformat_minor": 2
}
